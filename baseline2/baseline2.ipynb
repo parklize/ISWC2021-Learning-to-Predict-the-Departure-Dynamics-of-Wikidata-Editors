{
 "cells": [
  {
   "cell_type": "code",
   "execution_count": 3,
   "id": "rough-saturn",
   "metadata": {},
   "outputs": [],
   "source": [
    "import time\n",
    "import pickle\n",
    "import pprint\n",
    "import pandas as pd\n",
    "import numpy as np\n",
    "import matplotlib.pyplot as plt\n",
    "from datetime import datetime\n",
    "from sklearn.ensemble import RandomForestClassifier\n",
    "from sklearn.linear_model import LogisticRegression\n",
    "from sklearn.model_selection import GridSearchCV\n",
    "from sklearn.metrics import classification_report\n",
    "from sklearn import metrics\n",
    "\n",
    "# for reproducibility\n",
    "seed = 123\n",
    "np.random.seed(seed)"
   ]
  },
  {
   "cell_type": "markdown",
   "id": "million-sweden",
   "metadata": {},
   "source": [
    "Step1: Prepare data for training and testing\n",
    "--------------------------------"
   ]
  },
  {
   "cell_type": "code",
   "execution_count": 8,
   "id": "million-acquisition",
   "metadata": {},
   "outputs": [
    {
     "name": "stdout",
     "output_type": "stream",
     "text": [
      "60792\n",
      "65568\n",
      "76277\n",
      "(60792, 50)\n",
      "(60792, 50) (60792,)\n",
      "y df shape (65568, 1)\n",
      "test df shape (29509, 50)\n",
      "(65568, 51)\n",
      "(65568, 50) (65568,)\n",
      "CPU times: user 2min 46s, sys: 214 ms, total: 2min 46s\n",
      "Wall time: 2min 46s\n"
     ]
    }
   ],
   "source": [
    "%%time\n",
    "\n",
    "# load train users\n",
    "with open('../data/a_users_s2.data', 'rb') as filehandle:\n",
    "    # store the data as binary data stream\n",
    "    train_users = pickle.load(filehandle)\n",
    "print(len(train_users))\n",
    "\n",
    "# test\n",
    "with open('../data/a_users_s3.data', 'rb') as filehandle:\n",
    "    # store the data as binary data stream\n",
    "    test_users = pickle.load(filehandle)\n",
    "print(len(test_users))\n",
    "\n",
    "# to get active inactive in test\n",
    "with open('../data/a_users_s4.data', 'rb') as filehandle:\n",
    "    # store the data as binary data stream\n",
    "    s4_active_users = pickle.load(filehandle)\n",
    "print(len(s4_active_users))\n",
    "\n",
    "############ Training data preparation\n",
    "with open('../data/baseline2_traindf_list.pkl', 'rb') as filehandle:\n",
    "    # store the data as binary data stream\n",
    "    train_df_list = pickle.load(filehandle)\n",
    "    \n",
    "refined_list = list()\n",
    "for df_ in train_df_list:\n",
    "    df_['avg_edit_item'] = df_['count'] * 1.0 / df_['nunique']\n",
    "    refined_list.append(df_[['count', 'nunique', 'avg_edit_item', 'daydiff', 'entropy']])\n",
    "    \n",
    "# concat\n",
    "train_df = pd.concat(refined_list, axis=1, keys=list(range(10)))\n",
    "\n",
    "print(train_df.shape)\n",
    "train_df.head()\n",
    "\n",
    "# y_train\n",
    "y_labels = [x in test_users for x in train_users]\n",
    "y_df = pd.DataFrame({\n",
    "    'user': train_users,\n",
    "    'label': y_labels # 1 for active\n",
    "})\n",
    "y_df.set_index('user', inplace=True)\n",
    "\n",
    "train_df = pd.concat([train_df, y_df], axis=1)\n",
    "train_df = train_df.fillna(0)\n",
    "\n",
    "# X_train\n",
    "X_train = train_df.values[:,:-1]\n",
    "y_train = train_df.values[:,-1]\n",
    "y_train = 1-y_train\n",
    "np.nan_to_num(X_train, copy=False, nan=0.0)\n",
    "\n",
    "X_train = X_train.astype(dtype=np.float32)\n",
    "y_train = y_train.astype(dtype=np.int8)\n",
    "X_train = np.log10(X_train+1.)\n",
    "print(X_train.shape, y_train.shape)\n",
    "\n",
    "\n",
    "########## Test data preparation\n",
    "# y_train\n",
    "y_labels = [x in s4_active_users for x in test_users]\n",
    "y_df = pd.DataFrame({\n",
    "    'user': test_users,\n",
    "    'label': y_labels # 1 for active\n",
    "})\n",
    "y_df.set_index('user', inplace=True)\n",
    "print(\"y df shape\", y_df.shape)\n",
    "\n",
    "with open('../data/baseline2_testdf_list.pkl', 'rb') as filehandle:\n",
    "    # store the data as binary data stream\n",
    "    test_df_list = pickle.load(filehandle)\n",
    "    \n",
    "refined_list = list()\n",
    "for df_ in test_df_list:\n",
    "    df_['avg_edit_item'] = df_['count'] * 1.0 / df_['nunique']\n",
    "    refined_list.append(df_[['count', 'nunique', 'avg_edit_item', 'daydiff', 'entropy']])\n",
    "    \n",
    "# concat\n",
    "test_df = pd.concat(refined_list, axis=1, keys=list(range(len(refined_list))))\n",
    "test_df = test_df[test_df.index.isin(y_df.index)]\n",
    "print(\"test df shape\", test_df.shape)\n",
    "\n",
    "test_df = pd.concat([test_df, y_df], axis=1)\n",
    "test_df = test_df.fillna(0)\n",
    "print(test_df.shape)\n",
    "\n",
    "# X_test\n",
    "X_test = test_df.values[:,:-1]\n",
    "y_test = test_df.values[:,-1]\n",
    "y_test = 1-y_test\n",
    "np.nan_to_num(X_test, copy=False, nan=0.0)\n",
    "\n",
    "X_test = X_test.astype(dtype=np.float32)\n",
    "y_test = y_test.astype(dtype=np.int8)\n",
    "X_test = np.log10(X_test+1.)\n",
    "print(X_test.shape, y_test.shape)"
   ]
  },
  {
   "cell_type": "markdown",
   "id": "sitting-modern",
   "metadata": {},
   "source": [
    "To train/test RF-Sa in the main article\n",
    "==============================\n",
    "- Step2: Training RF-Sa: to train the model with best parameters from grid search\n",
    "- Step3: Testing RF-Sa: to use the already trained one for the paper to get the results in the paper\n"
   ]
  },
  {
   "cell_type": "markdown",
   "id": "portuguese-companion",
   "metadata": {},
   "source": [
    "Step2: Training RF-Sa\n",
    "--------------------\n",
    "(Go to Step3: Testing RF-Sa to run the one already trained for the paper)\n",
    "--------------"
   ]
  },
  {
   "cell_type": "code",
   "execution_count": 7,
   "id": "accepting-relation",
   "metadata": {},
   "outputs": [
    {
     "name": "stdout",
     "output_type": "stream",
     "text": [
      "Fitting 3 folds for each of 5 candidates, totalling 15 fits\n",
      "[CV 1/3] END ....................................max_depth=2; total time=  22.2s\n",
      "[CV 2/3] END ....................................max_depth=2; total time=  25.5s\n",
      "[CV 3/3] END ....................................max_depth=2; total time=  28.0s\n",
      "[CV 1/3] END ....................................max_depth=4; total time=  30.6s\n",
      "[CV 2/3] END ....................................max_depth=4; total time=  36.8s\n",
      "[CV 3/3] END ....................................max_depth=4; total time=  41.5s\n",
      "[CV 1/3] END ....................................max_depth=6; total time=  35.6s\n",
      "[CV 2/3] END ....................................max_depth=6; total time=  48.0s\n",
      "[CV 3/3] END ....................................max_depth=6; total time=  53.9s\n",
      "[CV 1/3] END ....................................max_depth=8; total time=  40.5s\n",
      "[CV 2/3] END ....................................max_depth=8; total time=  59.1s\n",
      "[CV 3/3] END ....................................max_depth=8; total time= 1.1min\n",
      "[CV 1/3] END ...................................max_depth=10; total time=  43.8s\n",
      "[CV 2/3] END ...................................max_depth=10; total time= 1.1min\n",
      "[CV 3/3] END ...................................max_depth=10; total time= 1.2min\n",
      "RandomForestClassifier(max_depth=4, n_estimators=1400)\n",
      "CPU times: user 11min 50s, sys: 0 ns, total: 11min 50s\n",
      "Wall time: 11min 50s\n"
     ]
    }
   ],
   "source": [
    "%%time\n",
    "### grid search cv\n",
    "# clf = RandomForestClassifier(n_estimators=1400)\n",
    "# param_grid = {'max_depth':[2,4,6,8,10]}\n",
    "# grid = GridSearchCV(clf, param_grid, cv=3, scoring='accuracy', verbose=3)\n",
    "# grid.fit(X_train, y_train)\n",
    "# clf = grid.best_estimator_\n",
    "# print(clf)\n",
    "\n",
    "# fit with best hyperparams\n",
    "direct fit with best hyperparam\n",
    "clf = RandomForestClassifier(n_estimators=1400,max_depth=4)\n",
    "clf.fit(X_train, y_train)\n",
    "\n",
    "# predict on train\n",
    "y_pred = clf.predict(X_train)\n",
    "print(classification_report(y_train, y_pred))\n",
    "\n",
    "# store model\n",
    "pickle.dump(clf, open('tmp/baseline2-rf1400.sav', 'wb'))"
   ]
  },
  {
   "cell_type": "markdown",
   "id": "06bfed1b",
   "metadata": {},
   "source": [
    "Step3: Testing RF-Sa\n",
    "--------------"
   ]
  },
  {
   "cell_type": "code",
   "execution_count": 6,
   "id": "bc3636fe",
   "metadata": {},
   "outputs": [
    {
     "name": "stdout",
     "output_type": "stream",
     "text": [
      "RandomForestClassifier(max_depth=4, n_estimators=1400)\n",
      "              precision    recall  f1-score   support\n",
      "\n",
      "           0     0.9274    0.4562    0.6116     32068\n",
      "           1     0.6498    0.9658    0.7769     33500\n",
      "\n",
      "    accuracy                         0.7166     65568\n",
      "   macro avg     0.7886    0.7110    0.6942     65568\n",
      "weighted avg     0.7856    0.7166    0.6960     65568\n",
      "\n",
      "AUROC 0.7645887437888517\n",
      "Log Loss 0.5509609374382396\n"
     ]
    }
   ],
   "source": [
    "clf = pickle.load(open('baseline2-rf1400.sav', 'rb'))\n",
    "print(clf)\n",
    "y_pred = clf.predict(X_test)\n",
    "y_prob = clf.predict_proba(X_test)[:, 1]\n",
    "print(classification_report(y_test, y_pred, digits=4))\n",
    "\n",
    "fpr, tpr, thresholds = metrics.roc_curve(y_test, y_prob)\n",
    "print('AUROC', metrics.auc(fpr, tpr))\n",
    "print('Log Loss', metrics.log_loss(y_test, y_prob))"
   ]
  },
  {
   "cell_type": "markdown",
   "id": "secondary-benefit",
   "metadata": {},
   "source": [
    "To train/test LR-Sa in the main article\n",
    "==============================\n",
    "- Step2: Training LR-Sa: to train the model with best parameters from grid search\n",
    "- Step3: Testing LR-Sa: to use the already trained one for the paper to get the results in the paper"
   ]
  },
  {
   "cell_type": "markdown",
   "id": "676c5b39",
   "metadata": {},
   "source": [
    "Step2: Training LR-Sa\n",
    "--------------------\n",
    "(Go to Step3: Testing LR-Sa to run the one already trained for the paper)\n",
    "--------------"
   ]
  },
  {
   "cell_type": "code",
   "execution_count": 6,
   "id": "exclusive-encounter",
   "metadata": {},
   "outputs": [
    {
     "name": "stdout",
     "output_type": "stream",
     "text": [
      "CPU times: user 10.9 s, sys: 0 ns, total: 10.9 s\n",
      "Wall time: 3.08 s\n"
     ]
    },
    {
     "data": {
      "text/plain": [
       "LogisticRegression(C=1000, max_iter=10000)"
      ]
     },
     "execution_count": 6,
     "metadata": {},
     "output_type": "execute_result"
    }
   ],
   "source": [
    "%%time\n",
    "\n",
    "### grid search cv\n",
    "# clf = LogisticRegression(max_iter=10000)\n",
    "# param_grid = {'C':[.1,1.,10.,100.,1000.]}\n",
    "# grid = GridSearchCV(clf, param_grid, cv=3, scoring='accuracy', verbose=3)\n",
    "# grid.fit(X_train, y_train)\n",
    "# clf = grid.best_estimator_\n",
    "# print(clf)\n",
    "\n",
    "# direct fit with best hyperparam\n",
    "clf = LogisticRegression(max_iter=10000,C=1000)\n",
    "clf.fit(X_train, y_train)\n",
    "\n",
    "y_pred = clf.predict(X_train)\n",
    "print(classification_report(y_train, y_pred))\n",
    "\n",
    "# store model\n",
    "pickle.dump(clf, open('tmp/baseline2-lr.sav', 'wb'))"
   ]
  },
  {
   "cell_type": "markdown",
   "id": "musical-missouri",
   "metadata": {},
   "source": [
    "Step3: Testing LR-Sa\n",
    "---------------------"
   ]
  },
  {
   "cell_type": "code",
   "execution_count": 7,
   "id": "engaged-concert",
   "metadata": {},
   "outputs": [
    {
     "name": "stdout",
     "output_type": "stream",
     "text": [
      "              precision    recall  f1-score   support\n",
      "\n",
      "           0     0.9004    0.4948    0.6386     32068\n",
      "           1     0.6621    0.9476    0.7795     33500\n",
      "\n",
      "    accuracy                         0.7261     65568\n",
      "   macro avg     0.7812    0.7212    0.7091     65568\n",
      "weighted avg     0.7786    0.7261    0.7106     65568\n",
      "\n",
      "AUROC 0.7656331824723209\n",
      "Log Loss 0.5885759913840601\n"
     ]
    }
   ],
   "source": [
    "clf = pickle.load(open('baseline2-lr.sav', 'rb'))\n",
    "y_pred = clf.predict(X_test)\n",
    "y_prob = clf.predict_proba(X_test)[:, 1]\n",
    "print(classification_report(y_test, y_pred, digits=4))\n",
    "\n",
    "fpr, tpr, thresholds = metrics.roc_curve(y_test, y_prob)\n",
    "print('AUROC', metrics.auc(fpr, tpr))\n",
    "print('Log Loss', metrics.log_loss(y_test, y_prob))"
   ]
  }
 ],
 "metadata": {
  "kernelspec": {
   "display_name": "Python3.6",
   "language": "python",
   "name": "py3.6"
  },
  "language_info": {
   "codemirror_mode": {
    "name": "ipython",
    "version": 3
   },
   "file_extension": ".py",
   "mimetype": "text/x-python",
   "name": "python",
   "nbconvert_exporter": "python",
   "pygments_lexer": "ipython3",
   "version": "3.6.12"
  }
 },
 "nbformat": 4,
 "nbformat_minor": 5
}
