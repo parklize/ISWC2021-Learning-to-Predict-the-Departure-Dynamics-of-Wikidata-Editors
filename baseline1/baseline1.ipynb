{
 "cells": [
  {
   "cell_type": "code",
   "execution_count": 16,
   "id": "experienced-lambda",
   "metadata": {},
   "outputs": [],
   "source": [
    "import time\n",
    "import pickle\n",
    "import pandas as pd\n",
    "pd.options.mode.chained_assignment = None  # default='warn'\n",
    "import numpy as np\n",
    "from datetime import datetime\n",
    "from deepctr.models import xDeepFM, DeepFM\n",
    "from deepctr.feature_column import  SparseFeat, DenseFeat, get_feature_names\n",
    "from tensorflow.python.keras.callbacks import EarlyStopping\n",
    "from tensorflow.python.keras.metrics import AUC\n",
    "import tensorflow\n",
    "from sklearn.neighbors import KNeighborsClassifier\n",
    "from sklearn.ensemble import GradientBoostingClassifier\n",
    "from sklearn.model_selection import GridSearchCV\n",
    "from sklearn.metrics import classification_report\n",
    "from sklearn import metrics\n",
    "import matplotlib.pyplot as plt\n",
    "\n",
    "# for reproducibility\n",
    "seed = 123\n",
    "np.random.seed(seed)\n",
    "tensorflow.random.set_seed(seed)"
   ]
  },
  {
   "cell_type": "markdown",
   "id": "furnished-budapest",
   "metadata": {},
   "source": [
    "Step1: Prepare data for training and testing\n",
    "--------------------------------"
   ]
  },
  {
   "cell_type": "code",
   "execution_count": 17,
   "id": "unlikely-difficulty",
   "metadata": {},
   "outputs": [
    {
     "name": "stdout",
     "output_type": "stream",
     "text": [
      "60792\n",
      "65568\n",
      "76277\n",
      "(60792, 30)\n",
      "(60792, 30) (60792,)\n",
      "(65568, 30)\n",
      "(65568, 31)\n",
      "(65568, 30) (65568,)\n",
      "CPU times: user 5min 23s, sys: 1.79 s, total: 5min 25s\n",
      "Wall time: 5min 37s\n"
     ]
    }
   ],
   "source": [
    "%%time\n",
    "\n",
    "# load train users\n",
    "with open('../data/a_users_s2.data', 'rb') as filehandle:\n",
    "    # store the data as binary data stream\n",
    "    train_users = pickle.load(filehandle)\n",
    "print(len(train_users))\n",
    "\n",
    "# test\n",
    "with open('../data/a_users_s3.data', 'rb') as filehandle:\n",
    "    # store the data as binary data stream\n",
    "    test_users = pickle.load(filehandle)\n",
    "print(len(test_users))\n",
    "\n",
    "# to get active inactive in test\n",
    "with open('../data/a_users_s4.data', 'rb') as filehandle:\n",
    "    # store the data as binary data stream\n",
    "    s4_active_users = pickle.load(filehandle)\n",
    "print(len(s4_active_users))\n",
    "\n",
    "############### Training data preparation\n",
    "with open('../data/baseline1_traindf_list.pkl', 'rb') as filehandle:\n",
    "    # store the data as binary data stream\n",
    "    train_df_list = pickle.load(filehandle)\n",
    "    \n",
    "refined_list = list()\n",
    "for df in train_df_list:\n",
    "#     print(df)\n",
    "    temp_df = df[[('target','count'),('target','nunique'),('time','max'),('time','min')]]\n",
    "    temp_df[('time','max')] = pd.to_datetime(temp_df[('time','max')])\n",
    "    temp_df[('time','min')] = pd.to_datetime(temp_df[('time','min')])\n",
    "    temp_df['daydiff'] = (temp_df[('time','max')] - temp_df[('time','min')]).dt.total_seconds() / (60.0*60*24)\n",
    "    temp_df.columns = ['count', 'unique', 'max_time', 'min_time', 'daydiff']\n",
    "    refined_list.append(temp_df[['count', 'unique', 'daydiff']])\n",
    "    \n",
    "# concat\n",
    "train_df = pd.concat(refined_list, axis=1, keys=list(range(10)))\n",
    "print(train_df.shape)\n",
    "train_df.head()\n",
    "\n",
    "# y_train\n",
    "y_labels = [x in test_users for x in train_users]\n",
    "y_df = pd.DataFrame({\n",
    "    'user': train_users,\n",
    "    'label': y_labels # 1 for active\n",
    "})\n",
    "y_df.set_index('user', inplace=True)\n",
    "\n",
    "train_df = pd.concat([train_df, y_df], axis=1)\n",
    "train_df = train_df.fillna(0)\n",
    "train_df.shape\n",
    "\n",
    "# X_train\n",
    "X_train = train_df.values[:,:-1]\n",
    "y_train = train_df.values[:,-1 ]\n",
    "y_train = 1 - y_train # 0 for active\n",
    "np.nan_to_num(X_train, copy=False, nan=0.0)\n",
    "\n",
    "X_train = X_train.astype(dtype=np.float32)\n",
    "y_train = y_train.astype(dtype=np.int8)\n",
    "X_train = np.log10(X_train+1.)\n",
    "print(X_train.shape, y_train.shape)\n",
    "\n",
    "\n",
    "############ Test data preparation\n",
    "with open('../data/baseline1_testdf_list.pkl', 'rb') as filehandle:\n",
    "    # store the data as binary data stream\n",
    "    test_df_list = pickle.load(filehandle)\n",
    "    \n",
    "refined_list = list()\n",
    "for df in test_df_list:\n",
    "#     print(df)\n",
    "    temp_df = df[[('target','count'),('target','nunique'),('time','max'),('time','min')]]\n",
    "    temp_df[('time','max')] = pd.to_datetime(temp_df[('time','max')])\n",
    "    temp_df[('time','min')] = pd.to_datetime(temp_df[('time','min')])\n",
    "    temp_df['daydiff'] = (temp_df[('time','max')] - temp_df[('time','min')]).dt.total_seconds() / (60.0*60*24)\n",
    "    temp_df.columns = ['count', 'unique', 'max_time', 'min_time', 'daydiff']\n",
    "    refined_list.append(temp_df[['count', 'unique', 'daydiff']])\n",
    "    \n",
    "# concat\n",
    "test_df = pd.concat(refined_list, axis=1, keys=list(range(10)))\n",
    "print(test_df.shape)\n",
    "test_df.head()\n",
    "\n",
    "############### to refine\n",
    "# y_train\n",
    "y_labels = [x in s4_active_users for x in test_users]\n",
    "y_df = pd.DataFrame({\n",
    "    'user': test_users,\n",
    "    'label': y_labels # 1 for active\n",
    "})\n",
    "y_df.set_index('user', inplace=True)\n",
    "\n",
    "test_df = pd.concat([test_df, y_df], axis=1)\n",
    "test_df = test_df.fillna(0)\n",
    "print(test_df.shape)\n",
    "\n",
    "# X_train\n",
    "X_test = test_df.values[:,:-1]\n",
    "y_test = test_df.values[:,-1]\n",
    "y_test = 1-y_test\n",
    "np.nan_to_num(X_test, copy=False, nan=0.0)\n",
    "\n",
    "X_test = X_test.astype(dtype=np.float32)\n",
    "y_test = y_test.astype(dtype=np.int8)\n",
    "X_test = np.log10(X_test+1.)\n",
    "print(X_test.shape, y_test.shape)"
   ]
  },
  {
   "cell_type": "markdown",
   "id": "stainless-milton",
   "metadata": {},
   "source": [
    "To train/test kNN-Zh in the main article\n",
    "==============================\n",
    "- Step2: Training kNN-Zh: to train the model with best parameters from grid search\n",
    "- Step3: Testing kNN-Zh: to use the already trained one for the paper to get the results in the paper"
   ]
  },
  {
   "cell_type": "markdown",
   "id": "beginning-pharmacy",
   "metadata": {},
   "source": [
    "Step2: Training kNN-Zh \n",
    "--------------\n",
    "(Go to Step3: Testing kNN-Zh to run the one already trained for the paper)\n",
    "--------------"
   ]
  },
  {
   "cell_type": "code",
   "execution_count": 67,
   "id": "eastern-visit",
   "metadata": {},
   "outputs": [
    {
     "name": "stdout",
     "output_type": "stream",
     "text": [
      "KNeighborsClassifier(n_neighbors=3000)\n",
      "CPU times: user 5.31 ms, sys: 2.94 ms, total: 8.26 ms\n",
      "Wall time: 33.6 ms\n"
     ]
    }
   ],
   "source": [
    "%%time\n",
    "### grid search cv\n",
    "# clf = KNeighborsClassifier()\n",
    "# k_range = [200,400,600,800,1000,1200,1400,1600,1800,2000,2200,2400,2600,2800,3000]\n",
    "# param_grid = dict(n_neighbors=k_range)\n",
    "# grid = GridSearchCV(clf, param_grid, cv=3, scoring='accuracy', verbose=3)\n",
    "# grid.fit(X_train, y_train)\n",
    "# clf = grid.best_estimator_\n",
    "\n",
    "# direct fit with best param\n",
    "clf = KNeighborsClassifier(n_neighbors=3000)\n",
    "clf.fit(X_train, y_train)\n",
    "\n",
    "# predict on train\n",
    "y_pred = clf.predict(X_train)\n",
    "print(classification_report(y_train,y_pred))\n",
    "\n",
    "# store model\n",
    "pickle.dump(clf, open('tmp/baseline1-knn3000.sav', 'wb'))"
   ]
  },
  {
   "cell_type": "markdown",
   "id": "4f906854",
   "metadata": {},
   "source": [
    "Step3: Testing kNN-Zh\n",
    "--------------"
   ]
  },
  {
   "cell_type": "code",
   "execution_count": 14,
   "id": "2004f7ee",
   "metadata": {},
   "outputs": [
    {
     "name": "stdout",
     "output_type": "stream",
     "text": [
      "              precision    recall  f1-score   support\n",
      "\n",
      "           0     0.8090    0.7119    0.7574     32068\n",
      "           1     0.7527    0.8391    0.7935     33500\n",
      "\n",
      "    accuracy                         0.7769     65568\n",
      "   macro avg     0.7808    0.7755    0.7755     65568\n",
      "weighted avg     0.7802    0.7769    0.7759     65568\n",
      "\n",
      "AUROC 0.8730792299572364\n",
      "Log Loss 0.443924984563648\n",
      "CPU times: user 6min 39s, sys: 1min 11s, total: 7min 51s\n",
      "Wall time: 6min 41s\n"
     ]
    }
   ],
   "source": [
    "%%time\n",
    "# change to the new model path if trained again\n",
    "clf = pickle.load(open('baseline1-knn3000.sav', 'rb')) \n",
    "y_pred = clf.predict(X_test)\n",
    "y_prob = clf.predict_proba(X_test)[:, 1]\n",
    "\n",
    "print(classification_report(y_test, y_pred, digits=4))\n",
    "fpr, tpr, thresholds = metrics.roc_curve(y_test, y_prob, pos_label=1)\n",
    "print('AUROC', metrics.auc(fpr, tpr))\n",
    "print('Log Loss', metrics.log_loss(y_test, y_prob))"
   ]
  },
  {
   "cell_type": "markdown",
   "id": "36a20c51",
   "metadata": {},
   "source": [
    "To train/test GBT-Zh in the main article\n",
    "==============================\n",
    "- Step2: Training GBT-Zh: to train the model with best parameters from grid search\n",
    "- Step3: Testing GBT-Zh: to use the already trained one for the paper to get the results in the paper"
   ]
  },
  {
   "cell_type": "markdown",
   "id": "aggressive-transparency",
   "metadata": {},
   "source": [
    "Step2: Training GBT-Zh\n",
    "--------------\n",
    "(Go to Step3: Testing GBT-Zh to run the one already trained for the paper)\n",
    "--------------"
   ]
  },
  {
   "cell_type": "code",
   "execution_count": 68,
   "id": "quantitative-reception",
   "metadata": {},
   "outputs": [
    {
     "name": "stdout",
     "output_type": "stream",
     "text": [
      "CPU times: user 5min 46s, sys: 47.8 ms, total: 5min 46s\n",
      "Wall time: 5min 47s\n"
     ]
    },
    {
     "data": {
      "text/plain": [
       "GradientBoostingClassifier(max_depth=4, n_estimators=1400)"
      ]
     },
     "execution_count": 68,
     "metadata": {},
     "output_type": "execute_result"
    }
   ],
   "source": [
    "%%time\n",
    "\n",
    "#### grid search cv\n",
    "# parameters = {\n",
    "#     \"max_depth\":[2,4,6,8,10],\n",
    "#     \"n_estimators\":[1400]\n",
    "# }\n",
    "# grid = GridSearchCV(GradientBoostingClassifier(random_state=28,validation_fraction=.2,n_iter_no_change=10), \n",
    "#                     parameters, cv=3, n_jobs=-1, verbose=3)\n",
    "# grid.fit(X_train, y_train)\n",
    "# clf = grid.best_estimator_\n",
    "\n",
    "\n",
    "# as the max in the paper\n",
    "clf = GradientBoostingClassifier(max_depth=4, n_estimators=1400)\n",
    "clf.fit(X_train, y_train)\n",
    "\n",
    "# predit on training\n",
    "y_pred = clf.predict(X_train)\n",
    "print(classification_report(y_train, y_pred))\n",
    "\n",
    "# store model\n",
    "pickle.dump(clf, open('tmp/baseline1-gbm-e1400-maxdepth4.sav', 'wb'))"
   ]
  },
  {
   "cell_type": "markdown",
   "id": "rotary-decade",
   "metadata": {},
   "source": [
    "Step3: Testing GBT-Zh\n",
    "-----------------------------"
   ]
  },
  {
   "cell_type": "code",
   "execution_count": 15,
   "id": "arctic-material",
   "metadata": {},
   "outputs": [
    {
     "name": "stdout",
     "output_type": "stream",
     "text": [
      "              precision    recall  f1-score   support\n",
      "\n",
      "           0     0.8382    0.7514    0.7924     32068\n",
      "           1     0.7835    0.8612    0.8205     33500\n",
      "\n",
      "    accuracy                         0.8075     65568\n",
      "   macro avg     0.8109    0.8063    0.8065     65568\n",
      "weighted avg     0.8103    0.8075    0.8068     65568\n",
      "\n",
      "AUROC 0.8890653727433682\n",
      "Log Loss 0.4165479479663574\n",
      "CPU times: user 583 ms, sys: 93.6 ms, total: 676 ms\n",
      "Wall time: 1.13 s\n"
     ]
    }
   ],
   "source": [
    "%%time\n",
    "# change to the new model path if trained again\n",
    "clf = pickle.load(open('baseline1-gbm-e1400-maxdepth4.sav', 'rb'))\n",
    "y_pred = clf.predict(X_test)\n",
    "y_prob = clf.predict_proba(X_test)[:, 1]\n",
    "print(classification_report(y_test, y_pred, digits=4))\n",
    "\n",
    "fpr, tpr, thresholds = metrics.roc_curve(y_test, y_prob)\n",
    "print('AUROC', metrics.auc(fpr, tpr))\n",
    "print('Log Loss', metrics.log_loss(y_test, y_prob))"
   ]
  }
 ],
 "metadata": {
  "kernelspec": {
   "display_name": "py3.7tf2.4.1",
   "language": "python",
   "name": "py3.7tf2.4.1"
  },
  "language_info": {
   "codemirror_mode": {
    "name": "ipython",
    "version": 3
   },
   "file_extension": ".py",
   "mimetype": "text/x-python",
   "name": "python",
   "nbconvert_exporter": "python",
   "pygments_lexer": "ipython3",
   "version": "3.7.10"
  }
 },
 "nbformat": 4,
 "nbformat_minor": 5
}
